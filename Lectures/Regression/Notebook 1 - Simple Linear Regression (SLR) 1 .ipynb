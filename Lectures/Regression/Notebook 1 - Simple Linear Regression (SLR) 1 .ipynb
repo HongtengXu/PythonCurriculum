{
 "cells": [
  {
   "cell_type": "code",
   "execution_count": 1,
   "metadata": {},
   "outputs": [],
   "source": [
    "# As will become standard in all notebooks\n",
    "# we will import the following packages \n",
    "\n",
    "## For data handling\n",
    "import pandas as pd\n",
    "import numpy as np\n",
    "\n",
    "## For plotting\n",
    "import matplotlib.pyplot as plt\n",
    "import seaborn as sns\n",
    "\n",
    "## This sets the plot style\n",
    "## to have a grid on a white background\n",
    "sns.set_style(\"whitegrid\")"
   ]
  },
  {
   "cell_type": "markdown",
   "metadata": {},
   "source": [
    "# Simple Linear Regression\n",
    "\n",
    "In this notebook we start the unit on regression, but also start learning about basic machine learning procedures.\n",
    "\n",
    "Let's get going with one of the most straightforward algorithms simple linear regression. As we learn about the algorithm we'll also have machine learning (ML) asides. These will introduce some basic ML concepts in the context of Simple Linear Regression.\n",
    "\n",
    "### The Problem\n",
    "\n",
    "Let's say you want to predict something. Actually let's get more specific. You work for ESPN and you think that you can predict a baseball teams wins, if you know their run differential. \n",
    "\n",
    "<i>For non-baseball fans a run is considered $1$ point in baseball, and run differential is the number of runs your team scores, denoted as $r$, minus the number of runs your team gave up, denoted as $ra$ for runs allowed, so run differential is $rd = r - ra$).</i>\n",
    "\n",
    "Luckily we have data that can help us identify the validity of that statement."
   ]
  },
  {
   "cell_type": "code",
   "execution_count": 2,
   "metadata": {},
   "outputs": [
    {
     "name": "stdout",
     "output_type": "stream",
     "text": [
      "There are 540 observations in the baseball df.\n",
      "The columns are ['teamID', 'yearID', 'lgID', 'G', 'W', 'L', 'R', 'RA', 'RD']\n"
     ]
    },
    {
     "data": {
      "text/html": [
       "<div>\n",
       "<style scoped>\n",
       "    .dataframe tbody tr th:only-of-type {\n",
       "        vertical-align: middle;\n",
       "    }\n",
       "\n",
       "    .dataframe tbody tr th {\n",
       "        vertical-align: top;\n",
       "    }\n",
       "\n",
       "    .dataframe thead th {\n",
       "        text-align: right;\n",
       "    }\n",
       "</style>\n",
       "<table border=\"1\" class=\"dataframe\">\n",
       "  <thead>\n",
       "    <tr style=\"text-align: right;\">\n",
       "      <th></th>\n",
       "      <th>teamID</th>\n",
       "      <th>yearID</th>\n",
       "      <th>lgID</th>\n",
       "      <th>G</th>\n",
       "      <th>W</th>\n",
       "      <th>L</th>\n",
       "      <th>R</th>\n",
       "      <th>RA</th>\n",
       "      <th>RD</th>\n",
       "    </tr>\n",
       "  </thead>\n",
       "  <tbody>\n",
       "    <tr>\n",
       "      <td>128</td>\n",
       "      <td>COL</td>\n",
       "      <td>2005</td>\n",
       "      <td>NL</td>\n",
       "      <td>162</td>\n",
       "      <td>67</td>\n",
       "      <td>95</td>\n",
       "      <td>740</td>\n",
       "      <td>862</td>\n",
       "      <td>-122</td>\n",
       "    </tr>\n",
       "    <tr>\n",
       "      <td>82</td>\n",
       "      <td>PIT</td>\n",
       "      <td>2003</td>\n",
       "      <td>NL</td>\n",
       "      <td>162</td>\n",
       "      <td>75</td>\n",
       "      <td>87</td>\n",
       "      <td>753</td>\n",
       "      <td>801</td>\n",
       "      <td>-48</td>\n",
       "    </tr>\n",
       "    <tr>\n",
       "      <td>422</td>\n",
       "      <td>BAL</td>\n",
       "      <td>2015</td>\n",
       "      <td>AL</td>\n",
       "      <td>162</td>\n",
       "      <td>81</td>\n",
       "      <td>81</td>\n",
       "      <td>713</td>\n",
       "      <td>693</td>\n",
       "      <td>20</td>\n",
       "    </tr>\n",
       "    <tr>\n",
       "      <td>436</td>\n",
       "      <td>MIN</td>\n",
       "      <td>2015</td>\n",
       "      <td>AL</td>\n",
       "      <td>162</td>\n",
       "      <td>83</td>\n",
       "      <td>79</td>\n",
       "      <td>696</td>\n",
       "      <td>700</td>\n",
       "      <td>-4</td>\n",
       "    </tr>\n",
       "    <tr>\n",
       "      <td>179</td>\n",
       "      <td>WAS</td>\n",
       "      <td>2006</td>\n",
       "      <td>NL</td>\n",
       "      <td>162</td>\n",
       "      <td>71</td>\n",
       "      <td>91</td>\n",
       "      <td>746</td>\n",
       "      <td>872</td>\n",
       "      <td>-126</td>\n",
       "    </tr>\n",
       "  </tbody>\n",
       "</table>\n",
       "</div>"
      ],
      "text/plain": [
       "    teamID  yearID lgID    G   W   L    R   RA   RD\n",
       "128    COL    2005   NL  162  67  95  740  862 -122\n",
       "82     PIT    2003   NL  162  75  87  753  801  -48\n",
       "422    BAL    2015   AL  162  81  81  713  693   20\n",
       "436    MIN    2015   AL  162  83  79  696  700   -4\n",
       "179    WAS    2006   NL  162  71  91  746  872 -126"
      ]
     },
     "execution_count": 2,
     "metadata": {},
     "output_type": "execute_result"
    }
   ],
   "source": [
    "# Use pandas to import the data\n",
    "baseball = pd.read_csv(\"baseball_run_diff.csv\")\n",
    "\n",
    "print(\"There are\",len(baseball),\"observations in the baseball df.\")\n",
    "print(\"The columns are\",list(baseball.columns))\n",
    "\n",
    "# Look at 5 randomly sampled rows\n",
    "baseball.sample(5)"
   ]
  },
  {
   "cell_type": "markdown",
   "metadata": {},
   "source": [
    "##### ML Aside - First Step in ML Data Handling Train Test Split\n",
    "\n",
    "We've imported the baseball data we'll need. Now you may be tempted to start exploring this data. However, since we'll be building a predictive model on top of it we want to set aside a small subset of the data aside for testing purposes. This is known as making the <i>train test split</i>.\n",
    "\n",
    "The <i>train set</i> is the one we build our model on. Most algorithms are built to optimize performance on the train set, so we can get a reliable sense of their prediction performance on this set. So by setting aside the <i>test set</i> at the beginning of the process, we can simulate how our model performs on new data because the model was not built on the test set, like new data, but we know the true answer, not like new data.\n",
    "\n",
    "So let's use `pandas` to make our sets."
   ]
  },
  {
   "cell_type": "code",
   "execution_count": 3,
   "metadata": {},
   "outputs": [],
   "source": [
    "# first make a copy of the original dataframe\n",
    "# this is due to the way python internally \n",
    "# stores objects\n",
    "baseball_copy = baseball.copy()\n",
    "\n",
    "# Now use sample to make a random sample\n",
    "# frac allows us to choose a fraction of the df\n",
    "# it is common to set aside 25% for testing\n",
    "baseball_train = baseball_copy.sample(frac=.75, random_state = 440)\n",
    "\n",
    "# now use drop and the train index to make test\n",
    "baseball_test = baseball_copy.drop(baseball_train.index)"
   ]
  },
  {
   "cell_type": "code",
   "execution_count": 4,
   "metadata": {},
   "outputs": [
    {
     "data": {
      "text/html": [
       "<div>\n",
       "<style scoped>\n",
       "    .dataframe tbody tr th:only-of-type {\n",
       "        vertical-align: middle;\n",
       "    }\n",
       "\n",
       "    .dataframe tbody tr th {\n",
       "        vertical-align: top;\n",
       "    }\n",
       "\n",
       "    .dataframe thead th {\n",
       "        text-align: right;\n",
       "    }\n",
       "</style>\n",
       "<table border=\"1\" class=\"dataframe\">\n",
       "  <thead>\n",
       "    <tr style=\"text-align: right;\">\n",
       "      <th></th>\n",
       "      <th>teamID</th>\n",
       "      <th>yearID</th>\n",
       "      <th>lgID</th>\n",
       "      <th>G</th>\n",
       "      <th>W</th>\n",
       "      <th>L</th>\n",
       "      <th>R</th>\n",
       "      <th>RA</th>\n",
       "      <th>RD</th>\n",
       "    </tr>\n",
       "  </thead>\n",
       "  <tbody>\n",
       "    <tr>\n",
       "      <td>385</td>\n",
       "      <td>SLN</td>\n",
       "      <td>2013</td>\n",
       "      <td>NL</td>\n",
       "      <td>162</td>\n",
       "      <td>97</td>\n",
       "      <td>65</td>\n",
       "      <td>783</td>\n",
       "      <td>596</td>\n",
       "      <td>187</td>\n",
       "    </tr>\n",
       "    <tr>\n",
       "      <td>39</td>\n",
       "      <td>COL</td>\n",
       "      <td>2002</td>\n",
       "      <td>NL</td>\n",
       "      <td>162</td>\n",
       "      <td>73</td>\n",
       "      <td>89</td>\n",
       "      <td>778</td>\n",
       "      <td>898</td>\n",
       "      <td>-120</td>\n",
       "    </tr>\n",
       "    <tr>\n",
       "      <td>335</td>\n",
       "      <td>CHN</td>\n",
       "      <td>2012</td>\n",
       "      <td>NL</td>\n",
       "      <td>162</td>\n",
       "      <td>61</td>\n",
       "      <td>101</td>\n",
       "      <td>613</td>\n",
       "      <td>759</td>\n",
       "      <td>-146</td>\n",
       "    </tr>\n",
       "    <tr>\n",
       "      <td>125</td>\n",
       "      <td>CHN</td>\n",
       "      <td>2005</td>\n",
       "      <td>NL</td>\n",
       "      <td>162</td>\n",
       "      <td>79</td>\n",
       "      <td>83</td>\n",
       "      <td>703</td>\n",
       "      <td>714</td>\n",
       "      <td>-11</td>\n",
       "    </tr>\n",
       "    <tr>\n",
       "      <td>158</td>\n",
       "      <td>COL</td>\n",
       "      <td>2006</td>\n",
       "      <td>NL</td>\n",
       "      <td>162</td>\n",
       "      <td>76</td>\n",
       "      <td>86</td>\n",
       "      <td>813</td>\n",
       "      <td>812</td>\n",
       "      <td>1</td>\n",
       "    </tr>\n",
       "  </tbody>\n",
       "</table>\n",
       "</div>"
      ],
      "text/plain": [
       "    teamID  yearID lgID    G   W    L    R   RA   RD\n",
       "385    SLN    2013   NL  162  97   65  783  596  187\n",
       "39     COL    2002   NL  162  73   89  778  898 -120\n",
       "335    CHN    2012   NL  162  61  101  613  759 -146\n",
       "125    CHN    2005   NL  162  79   83  703  714  -11\n",
       "158    COL    2006   NL  162  76   86  813  812    1"
      ]
     },
     "execution_count": 4,
     "metadata": {},
     "output_type": "execute_result"
    }
   ],
   "source": [
    "# Now look at the training set head\n",
    "baseball_train.head()"
   ]
  },
  {
   "cell_type": "markdown",
   "metadata": {},
   "source": [
    "Now we can explore!\n",
    "\n",
    "Let's learn some plotting techniques so we can assess whether or not there is a relationship between run differential (coded as `RD` in the df) and wins (coded as `W`)."
   ]
  },
  {
   "cell_type": "code",
   "execution_count": 5,
   "metadata": {},
   "outputs": [
    {
     "data": {
      "image/png": "[encoded data removed]",
      "text/plain": [
       "<Figure size 720x720 with 1 Axes>"
      ]
     },
     "metadata": {
      "needs_background": "light"
     },
     "output_type": "display_data"
    }
   ],
   "source": [
    "# We'll use plt.scatter for this\n",
    "\n",
    "# first make a figure\n",
    "# this makes a figure that is 10 units by 10 units\n",
    "plt.figure(figsize = (10,10))\n",
    "\n",
    "# plt.scatter plots RD on the x and W on the y\n",
    "plt.scatter(baseball_train.RD, baseball_train.W)\n",
    "\n",
    "# Always good practice to label well when\n",
    "# presenting a figure to others\n",
    "# place an xlabel\n",
    "plt.xlabel(\"Run Differential\", fontsize =16)\n",
    "\n",
    "# place a ylabel\n",
    "plt.ylabel(\"Wins\", fontsize = 16)\n",
    "\n",
    "# type this to show the plot\n",
    "plt.show()"
   ]
  },
  {
   "cell_type": "markdown",
   "metadata": {},
   "source": [
    "##### Write Something\n",
    "\n",
    "Take a moment to describe what relationship you see between run differential and wins.\n",
    "\n",
    "\n",
    "\n",
    "\n",
    "\n",
    "\n",
    "\n",
    "\n"
   ]
  },
  {
   "cell_type": "markdown",
   "metadata": {},
   "source": [
    "We want to predict wins given run differential. There are many ways to do this, for example we could just predict that the number of wins is equal to the average from the training set, essentially saying that run differential doesn't matter."
   ]
  },
  {
   "cell_type": "code",
   "execution_count": 6,
   "metadata": {},
   "outputs": [
    {
     "data": {
      "image/png": "[encoded data removed]",
      "text/plain": [
       "<Figure size 720x720 with 1 Axes>"
      ]
     },
     "metadata": {
      "needs_background": "light"
     },
     "output_type": "display_data"
    }
   ],
   "source": [
    "# use pandas to get mean wins\n",
    "mean_w = baseball_train.W.mean()\n",
    "\n",
    "# now get min and max rd for plotting\n",
    "min_rd = baseball_train.RD.min()\n",
    "max_rd = baseball_train.RD.max()\n",
    "padding = 20\n",
    "\n",
    "plt.figure(figsize = (10,10))\n",
    "\n",
    "# plt.scatter plots RD on the x and W on the y\n",
    "plt.scatter(baseball_train.RD, baseball_train.W, label = \"observations\")\n",
    "\n",
    "# Now add mean prediction line\n",
    "plt.plot(np.linspace(min_rd - padding,max_rd + padding,1000),\n",
    "            mean_w*np.ones(1000), 'k',\n",
    "            label=\"Prediction Line\",\n",
    "            linewidth = 2)\n",
    "\n",
    "# Always good practice to label well when\n",
    "# presenting a figure to others\n",
    "# place an xlabel\n",
    "plt.xlabel(\"Run Differential\", fontsize =16)\n",
    "\n",
    "# place a ylabel\n",
    "plt.ylabel(\"Wins\", fontsize = 16)\n",
    "\n",
    "# Add a legend\n",
    "plt.legend(fontsize=14)\n",
    "\n",
    "# type this to show the plot\n",
    "plt.show()\n"
   ]
  },
  {
   "cell_type": "markdown",
   "metadata": {},
   "source": [
    "What do you think? Can we do better?\n",
    "\n",
    "Yes!\n",
    "\n",
    "Let's use that relationship you discussed after we first plotted Run Differential against Wins. There definitely seems to be a linear relationship between the two variables, and modeling this relationship is exactly what simple linear regression is all about.\n",
    "\n",
    "### The Model\n",
    "\n",
    "Copying the notation of our dataframe let $w$ denote wins and $rd$ denote run differential, also assume we have $n$ observations. In many machine learning and data science problems you assume some model of the truth. Meaning this, we're assuming there is some true relationship between $rd$ and $w$, a statistical model allows us to estimate the truth so we can make informed decisions and predictions.\n",
    "\n",
    "For Simple Linear Regression we model the relationship like a straight line, let the subscript $i$ denote the $i_{\\text{th}}$ observation:\n",
    "$$\n",
    "w_i = \\beta_0 + \\beta_1 rd_i + \\epsilon_i,\n",
    "$$\n",
    "here $\\beta_0$ and $\\beta_1$ are coefficients we'll need to estimate, and $\\epsilon_i$ is random noise assumed to be an independent normally distributed with mean $0$ and standard deviation $\\sigma$. Note that we assume the same formula holds for all observations.\n",
    "\n",
    "#### How to Fit the Model\n",
    "\n",
    "We need to choose $\\beta_0$ and $\\beta_1$ so that the line we produce is \"good\", but what does \"good\" mean. In general it means that we don't want our estimated line to be too far from the data. A common measure used in regression problems is the <i>Mean Square Error (MSE)</i> or equivalently the <i>Root Mean Square Error</i>. Suppose that we decide that $\\hat{\\beta_0}$ and $\\hat{\\beta_1}$ are the best estimates, then the MSE for those estimates is\n",
    "$$\n",
    "MSE = \\frac{1}{n}\\sum_i^n(\\hat{w_i} - w_i)^2 = \\frac{1}{n}\\sum_i^n(\\hat{\\beta_0} + \\hat{\\beta_1}rd_i - w_i)^2.\n",
    "$$\n",
    "The \"best\" estimates will be the $\\hat{\\beta_0}$ and $\\hat{\\beta_1}$ that minimize the MSE. Doing some Calculus you can derive that this gives the following best linear estimates for the $\\hat{\\beta}$s:\n",
    "$$\n",
    "\\hat{\\beta_1} = \\frac{\\sum_i^n\\left(rd_i - \\overline{rd}\\right)\\left(w_i - \\overline{w}\\right)}{\\sum_i^n\\left(rd_i - \\overline{rd}\\right)^2} = \\frac{\\text{cov}(rd,w)}{\\sigma^2_{rd}}, \\text{ and}\n",
    "$$\n",
    "<br>\n",
    "$$\n",
    "\\hat{\\beta_0} = \\overline{w} - \\hat{\\beta_1}\\overline{rd}.\n",
    "$$\n",
    "These two formulas give the <i>least squares coefficient estimatesw</i> for simple linear regression.\n",
    "\n",
    "Let's have you do a little coding and calculate the least squares estimate for regressing wins on run differential."
   ]
  },
  {
   "cell_type": "code",
   "execution_count": 7,
   "metadata": {},
   "outputs": [],
   "source": [
    "## Code here\n",
    "## Note you can get a column's variance using .var()\n",
    "## Note you can get a covariance matrix from a dataframe using .cov()\n",
    "\n",
    "## Sample Answer\n",
    "w_mean = baseball_train.W.mean()\n",
    "rd_mean = baseball_train.RD.mean()\n",
    "\n",
    "cov = baseball_train[['W','RD']].cov().iloc[0,1]\n",
    "rd_var = baseball_train.RD.var()\n",
    "\n",
    "beta_1_hat = cov/rd_var\n",
    "beta_0_hat = w_mean - beta_1_hat * rd_mean"
   ]
  },
  {
   "cell_type": "code",
   "execution_count": 8,
   "metadata": {},
   "outputs": [
    {
     "data": {
      "image/png": "[encoded data removed]",
      "text/plain": [
       "<Figure size 720x720 with 1 Axes>"
      ]
     },
     "metadata": {
      "needs_background": "light"
     },
     "output_type": "display_data"
    }
   ],
   "source": [
    "## Code here\n",
    "## Now produce a plot with the samples and the fitted SLR line\n",
    "\n",
    "## Use the x as the input for your line, i.e. beta_0_hat + beta_1_hat*x\n",
    "min_rd = baseball_train.RD.min()\n",
    "max_rd = baseball_train.RD.max()\n",
    "padding = 20\n",
    "x = np.linspace(min_rd - padding,max_rd + padding,1000)\n",
    "\n",
    "\n",
    "\n",
    "## Sample Answer\n",
    "plt.figure(figsize = (10,10))\n",
    "\n",
    "# plt.scatter plots RD on the x and W on the y\n",
    "plt.scatter(baseball_train.RD, baseball_train.W, label = \"observations\")\n",
    "\n",
    "# Now add mean prediction line\n",
    "plt.plot(np.linspace(min_rd - padding,max_rd + padding,1000),\n",
    "            beta_0_hat + beta_1_hat*np.linspace(min_rd - padding,max_rd + padding,1000), 'k',\n",
    "            label=\"Prediction Line\",\n",
    "            linewidth = 2)\n",
    "\n",
    "# Always good practice to label well when\n",
    "# presenting a figure to others\n",
    "# place an xlabel\n",
    "plt.xlabel(\"Run Differential\", fontsize =16)\n",
    "\n",
    "# place a ylabel\n",
    "plt.ylabel(\"Wins\", fontsize = 16)\n",
    "\n",
    "# Add a legend\n",
    "plt.legend(fontsize=14)\n",
    "\n",
    "# type this to show the plot\n",
    "plt.show()"
   ]
  },
  {
   "cell_type": "markdown",
   "metadata": {},
   "source": [
    "Now that looks a lot better than our previous mean only prediction!\n",
    "\n",
    "Great Work!\n",
    "\n",
    "##### ML Aside\n",
    "\n",
    "MSE is just one example of what is called a <i>loss function</i> or <i>cost function</i>. In Machine Learning problems we often fit our models by minimizing the loss function. For example, to find the $\\beta_0$ and $\\beta_1$ estimates we minimized MSE. We'll see many examples of loss functions as we go along in the course.\n",
    "\n",
    "##### Aside Over\n",
    "\n",
    "#### `sklearn` and `seaborn` Shortcuts\n",
    "\n",
    "Now that we did all that work let's see a couple of shortcuts."
   ]
  },
  {
   "cell_type": "code",
   "execution_count": 9,
   "metadata": {},
   "outputs": [],
   "source": [
    "## Model Building with sklearn\n",
    "\n",
    "# first we import Linear Regression from sklearn\n",
    "from sklearn.linear_model import LinearRegression"
   ]
  },
  {
   "cell_type": "code",
   "execution_count": 10,
   "metadata": {},
   "outputs": [
    {
     "data": {
      "text/plain": [
       "LinearRegression(copy_X=True, fit_intercept=True, n_jobs=None, normalize=False)"
      ]
     },
     "execution_count": 10,
     "metadata": {},
     "output_type": "execute_result"
    }
   ],
   "source": [
    "# Now we make a model object\n",
    "slr = LinearRegression(copy_X = True)\n",
    "\n",
    "# Now we fit the model\n",
    "# first goes the input variables\n",
    "# Then the output variables\n",
    "# If the input is a 1-D vector you need to reshape it\n",
    "# Then you need to ravel() the output\n",
    "slr.fit(baseball_train['RD'].values.reshape(-1,1), baseball_train['W'].values.ravel())"
   ]
  },
  {
   "cell_type": "code",
   "execution_count": 11,
   "metadata": {},
   "outputs": [
    {
     "name": "stdout",
     "output_type": "stream",
     "text": [
      "beta_1_hat is 0.09985459099626864\n",
      "beta_0_hat is 81.08682310353349\n",
      "\n",
      "We computed beta_1_hat to be 0.09985459099626862\n",
      "We compute beta_0_hat to be 81.08682310353349\n"
     ]
    }
   ],
   "source": [
    "# Now we can see the coefficients\n",
    "print(\"beta_1_hat is\", slr.coef_[0])\n",
    "print(\"beta_0_hat is\", slr.intercept_)\n",
    "\n",
    "print()\n",
    "\n",
    "# Let's compare that to what we computed\n",
    "print(\"We computed beta_1_hat to be\", beta_1_hat)\n",
    "print(\"We compute beta_0_hat to be\", beta_0_hat)"
   ]
  },
  {
   "cell_type": "code",
   "execution_count": 12,
   "metadata": {},
   "outputs": [
    {
     "data": {
      "text/plain": [
       "array([ 45.43873412,  52.53950503,  59.64027595,  66.74104686,\n",
       "        73.84181778,  80.94258869,  88.04335961,  95.14413052,\n",
       "       102.24490144, 109.34567236])"
      ]
     },
     "execution_count": 12,
     "metadata": {},
     "output_type": "execute_result"
    }
   ],
   "source": [
    "# We can make predictions like so\n",
    "min_rd = baseball_train.RD.min()\n",
    "max_rd = baseball_train.RD.max()\n",
    "padding = 20\n",
    "x = np.linspace(min_rd - padding,max_rd + padding,10)\n",
    "\n",
    "slr.predict(x.reshape(-1,1))"
   ]
  },
  {
   "cell_type": "markdown",
   "metadata": {},
   "source": [
    "`sklearn` is <b>the</b> Python machine learning library. As we go throught the course we'll be relying heavily on `sklearn`. The pattern we just showed is the common `sklearn` pattern, import the model, make a model object, fit the object, then predict. To learn more about the `LinearRegression` object read the documentation here: <a href=\"https://scikit-learn.org/stable/modules/generated/sklearn.linear_model.LinearRegression.html\">https://scikit-learn.org/stable/modules/generated/sklearn.linear_model.LinearRegression.html</a>.\n",
    "\n",
    "Now let's introduce a nice plotting shortcut."
   ]
  },
  {
   "cell_type": "code",
   "execution_count": 13,
   "metadata": {},
   "outputs": [
    {
     "data": {
      "image/png": "[encoded data removed]",
      "text/plain": [
       "<Figure size 720x720 with 1 Axes>"
      ]
     },
     "metadata": {
      "needs_background": "light"
     },
     "output_type": "display_data"
    }
   ],
   "source": [
    "## Now we can have a nice plotting shortcut too\n",
    "\n",
    "# seaborn lmplot stands for \n",
    "# linear model plot\n",
    "# it makes a scatter plot and plots the regression plot over it\n",
    "# height controls the size of the plot\n",
    "# ci stands for confidence interval, we'll come back to that later\n",
    "sns.lmplot(data = baseball_train, x = 'RD', y = 'W', height = 10, ci=None)\n",
    "\n",
    "\n",
    "plt.xlabel(\"Run Differential\", fontsize = 16)\n",
    "plt.ylabel(\"Wins\", fontsize = 16)\n",
    "\n",
    "plt.show()"
   ]
  },
  {
   "cell_type": "markdown",
   "metadata": {},
   "source": [
    "`seaborn` is an excellent plotting library. We'll leave it to you to explore it separately. Here is the documentation page <a href=\"https://seaborn.pydata.org/index.html\">https://seaborn.pydata.org/index.html</a>, and here is a nice tutorial using pokemon data to help teach various plots, <a href=\"https://elitedatascience.com/python-seaborn-tutorial\">https://elitedatascience.com/python-seaborn-tutorial</a>.\n",
    "\n",
    "\n",
    "### Interpreting the Coeficient of SLR\n",
    "\n",
    "A nice thing about SLR is that we can interpret the $\\beta_1$ coefficient in a meaningful way. If for example $\\hat{\\beta_1} = 2$ in the run differential problem we could say that for a $1$ point increase in run differential we estimate an increase of $2$ wins."
   ]
  },
  {
   "cell_type": "code",
   "execution_count": 14,
   "metadata": {},
   "outputs": [
    {
     "name": "stdout",
     "output_type": "stream",
     "text": [
      "A 1 point increase in run differential gives and estimated 0.0999 additional wins.\n",
      "So we estimate that a team needs a 10.0 point run differential increase for 1 additional win.\n"
     ]
    }
   ],
   "source": [
    "# Write a print statement that interprets the \n",
    "# best linear estimate of beta_1 here\n",
    "print(\"A 1 point increase in run differential gives and estimated\",\n",
    "         np.round(beta_1_hat,4),\n",
    "          \"additional wins.\")\n",
    "print(\"So we estimate that a team needs a\",\n",
    "         np.round(1/beta_1_hat,1),\n",
    "          \"point run differential increase for 1 additional win.\")"
   ]
  },
  {
   "cell_type": "markdown",
   "metadata": {},
   "source": [
    "#### Training and Testing Performance\n",
    "\n",
    "Before setting you loose to work on a Simple Linear Regression problem of your own we can see how to measure the MSE of our model on both the training data and test data.\n",
    "\n",
    "##### Training Data\n",
    "\n",
    "It is often useful to compare how good the model fit training data when we are trying to choose a best model. Since there is no other model to choose from, we'll just get some practice coding in python below."
   ]
  },
  {
   "cell_type": "code",
   "execution_count": 15,
   "metadata": {},
   "outputs": [
    {
     "name": "stdout",
     "output_type": "stream",
     "text": [
      "The training MSE is 17.0272\n"
     ]
    }
   ],
   "source": [
    "# Write code to calculate MSE on the training data\n",
    "# here, you may use either a by hand calculation or\n",
    "# sklearn\n",
    "## Sample Answer\n",
    "def mse(y,y_pred,r):\n",
    "    return np.round(np.sum((y-y_pred)**2)/len(y),r)\n",
    "\n",
    "y_train = baseball_train.W.values\n",
    "y_train_pred = slr.predict(baseball_train.RD.values.reshape(-1,1))\n",
    "\n",
    "print(\"The training MSE is\",mse(y_train,y_train_pred,4))"
   ]
  },
  {
   "cell_type": "markdown",
   "metadata": {},
   "source": [
    "##### Testing Data\n",
    "\n",
    "Since we won't be doing any additional model improvements or model comparisons go ahead and calculate how well we did on the test data."
   ]
  },
  {
   "cell_type": "code",
   "execution_count": 16,
   "metadata": {},
   "outputs": [
    {
     "name": "stdout",
     "output_type": "stream",
     "text": [
      "The training MSE is 16.0443\n"
     ]
    }
   ],
   "source": [
    "# Write code to calculate MSE on the training data\n",
    "# here, you may use either a by hand calculation or\n",
    "# sklearn\n",
    "## Sample Answer\n",
    "y_test = baseball_test.W.values\n",
    "y_test_pred = slr.predict(baseball_test.RD.values.reshape(-1,1))\n",
    "\n",
    "\n",
    "print(\"The training MSE is\",mse(y_test,y_test_pred,4))"
   ]
  },
  {
   "cell_type": "markdown",
   "metadata": {},
   "source": [
    "## Your Turn\n",
    "\n",
    "Now it's your turn to practice building a SLR model.\n",
    "\n",
    "We'll look at the `carseats` data set from Introduction to Statistical Learning in R. This looks at various variables related to the sales of child car seats at $400$ stores. Each row is a store. The thing we'd like to predict is `Sales`. We'll return to this data set in later notebooks. For now try to build a SLR regressing `Sales` on `Price`. Once you have your model built, interpret the outcome and produce a measure of how good your model is."
   ]
  },
  {
   "cell_type": "code",
   "execution_count": 17,
   "metadata": {},
   "outputs": [],
   "source": [
    "# Read in the data set here\n",
    "carseats = pd.read_csv(\"carseats.csv\")"
   ]
  },
  {
   "cell_type": "code",
   "execution_count": 18,
   "metadata": {},
   "outputs": [],
   "source": [
    "## What do you need to do first before exploring the data?\n",
    "## Do That here\n",
    "\n",
    "\n",
    "\n",
    "\n",
    "\n"
   ]
  },
  {
   "cell_type": "code",
   "execution_count": 19,
   "metadata": {},
   "outputs": [],
   "source": [
    "## Now explore the data\n",
    "## plot Price vs Sales and see if \n",
    "## a linear regression model makes sense.\n",
    "\n",
    "\n",
    "\n",
    "\n",
    "\n",
    "\n"
   ]
  },
  {
   "cell_type": "code",
   "execution_count": 20,
   "metadata": {},
   "outputs": [],
   "source": [
    "## If you think it is appropriate fit the model here\n",
    "## You may use sklearn or by hand\n",
    "\n",
    "\n",
    "\n",
    "\n",
    "\n",
    "\n"
   ]
  },
  {
   "cell_type": "code",
   "execution_count": 21,
   "metadata": {},
   "outputs": [],
   "source": [
    "## Make a new plot with your\n",
    "## Regression Line here\n",
    "## Does it look like a good fit?\n",
    "\n",
    "\n",
    "\n",
    "\n",
    "\n",
    "\n"
   ]
  },
  {
   "cell_type": "code",
   "execution_count": 22,
   "metadata": {},
   "outputs": [],
   "source": [
    "## Interpret the model here\n",
    "\n",
    "\n",
    "\n",
    "\n",
    "\n",
    "\n",
    "\n"
   ]
  },
  {
   "cell_type": "code",
   "execution_count": 23,
   "metadata": {},
   "outputs": [],
   "source": [
    "## Provide measures of goodness here\n",
    "\n",
    "\n",
    "\n",
    "\n",
    "\n",
    "\n",
    "\n"
   ]
  },
  {
   "cell_type": "markdown",
   "metadata": {},
   "source": [
    "## See you in Notebook 2!\n",
    "\n",
    "That's it for this notebook. You learned:\n",
    "<ul>\n",
    "    <li>what SLR is,</li>\n",
    "    <li>how to fit it,</li>\n",
    "    <li>and how to interpret the output.</li>\n",
    "</ul>    \n",
    "Along the way we introduced ML concepts like:\n",
    "<ul>\n",
    "    <li>train test splits,</li>\n",
    "    <li>statistical modeling,</li>\n",
    "    <li>and loss functions.</li>\n",
    "</ul>\n",
    "    \n",
    "Next we'll wrap up SLR with a few odds and ends. Then we'll move on to extensions on Simple Linear Regression that will allow for even better models."
   ]
  }
 ],
 "metadata": {
  "kernelspec": {
   "display_name": "Python 3",
   "language": "python",
   "name": "python3"
  },
  "language_info": {
   "codemirror_mode": {
    "name": "ipython",
    "version": 3
   },
   "file_extension": ".py",
   "mimetype": "text/x-python",
   "name": "python",
   "nbconvert_exporter": "python",
   "pygments_lexer": "ipython3",
   "version": "3.7.4"
  }
 },
 "nbformat": 4,
 "nbformat_minor": 2
}
