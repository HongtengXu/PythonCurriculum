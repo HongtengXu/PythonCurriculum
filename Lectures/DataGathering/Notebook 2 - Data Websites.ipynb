{
 "cells": [
  {
   "cell_type": "code",
   "execution_count": 1,
   "metadata": {},
   "outputs": [],
   "source": [
    "# These packages will be used today\n",
    "import pandas as pd"
   ]
  },
  {
   "cell_type": "markdown",
   "metadata": {},
   "source": [
    "# Gathering Data\n",
    "\n",
    "Before you can start any data science project you will need data. \n",
    "\n",
    "If you take a position as a data scientist, machine learning engineer, or any other number of related roles you will often be provided data by your employer. However, until then you will need to find data yourself. In this notebook we will review some methods to find publiclly available data, as well as go through some data basics we'll use throughout this course.\n",
    "\n",
    "Let's get started!"
   ]
  },
  {
   "cell_type": "markdown",
   "metadata": {},
   "source": [
    "## Data Via Websites\n",
    "\n",
    "Probably the easiest way to get data is via websites dedicated to providing data sets. \n",
    "\n",
    "### Academic Repositories\n",
    "These can be academic data repositories such as the <a href = \"https://archive.ics.uci.edu/ml/index.php\">UC Irvine Machine Learning Repository</a>. Let's visit and download a file."
   ]
  },
  {
   "cell_type": "code",
   "execution_count": null,
   "metadata": {},
   "outputs": [],
   "source": [
    "# When data is stored in csv format, you can\n",
    "# read it in like this. csv stands for \n",
    "# comma separated values. This is one\n",
    "# common method of storing data\n",
    "df = pd.read_csv(\"Data/forestfires.csv\")"
   ]
  },
  {
   "cell_type": "code",
   "execution_count": null,
   "metadata": {},
   "outputs": [],
   "source": [
    "# This gives us the first 5 entries of the data set\n",
    "df.head()"
   ]
  },
  {
   "cell_type": "markdown",
   "metadata": {},
   "source": [
    "Sites like this are designed to hold popular data sets from research papers. These data sets are often set up to test the performance of new machine learning algorithms.\n",
    "\n",
    "### Data Science Competition Sites\n",
    "\n",
    "Another example of data hosting website is a data science competition site. One of the most popular is <a href = \"https://www.kaggle.com/\">Kaggle</a>. These sites host competitions, often with prizes attached. They also have pages of user submitted data sets. Let's grab an example."
   ]
  },
  {
   "cell_type": "code",
   "execution_count": null,
   "metadata": {},
   "outputs": [],
   "source": [
    "# Here is an example of reading a json file into\n",
    "# pandas. json is another common filetype for storing data\n",
    "# it stands for javascript object notation\n",
    "df = pd.read_json(\"Data/winemag-data-130k-v2.json\")"
   ]
  },
  {
   "cell_type": "code",
   "execution_count": null,
   "metadata": {},
   "outputs": [],
   "source": [
    "df.head()"
   ]
  },
  {
   "cell_type": "markdown",
   "metadata": {},
   "source": [
    "Other data competition websites include <a href = \"https://www.drivendata.org/\">DrivenData</a>, <a href = \"https://www.crowdanalytix.com/community\">CrowdANALYTIX</a>, <a href = \"https://codalab.org/\">CodaLab</a>, and <a href = \"https://www.datasciencechallenge.org/\">Data Science Challenge</a>.\n",
    "\n",
    "That's it for data websites, next up web scraping with `beautifulsoup`"
   ]
  },
  {
   "cell_type": "code",
   "execution_count": null,
   "metadata": {},
   "outputs": [],
   "source": []
  }
 ],
 "metadata": {
  "kernelspec": {
   "display_name": "Python 3",
   "language": "python",
   "name": "python3"
  },
  "language_info": {
   "codemirror_mode": {
    "name": "ipython",
    "version": 3
   },
   "file_extension": ".py",
   "mimetype": "text/x-python",
   "name": "python",
   "nbconvert_exporter": "python",
   "pygments_lexer": "ipython3",
   "version": "3.7.4"
  }
 },
 "nbformat": 4,
 "nbformat_minor": 2
}
